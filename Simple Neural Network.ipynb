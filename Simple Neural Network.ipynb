{
 "cells": [
  {
   "cell_type": "markdown",
   "metadata": {},
   "source": [
    "# Simple Neural Network Project\n",
    "#### By: Dan Vu\n",
    "\n",
    "In this project we will from scratch, approximate a model for a non-linear function using the non-linear least squares algorithm - specifically the **Levenberg-Marquardt Algorithm**.  \n",
    "\n",
    "The neural network will have the following form:\n",
    "\n",
    "$$f_w (x) =  f_{NN} (w;x) = w_1\\phi(w_2x_1 +w_3x_2 +w_4x_3 +w_5)+w_6\\phi(w_7x_1 +w_8x_2 +w_9x_3 +w_{10})$$\n",
    "$$+w_{11}\\phi(w_{12}x_1 +w_{13}x_2 +w_{14}x_3 +w_{15}) +w_{16}  $$\n",
    "\n",
    "This can be visualized here:\n",
    "\n",
    "<img src=\"image0.png\" alt=\"drawing\" width=\"400\"/>\n",
    "\n",
    "*The highlighted connections between the neurons represent the weights.*\n",
    "\n",
    "\n",
    "We will also use the non-linear sigmoid function (tanh) given by\n",
    "\n",
    "$$ \\phi(x) = \\frac{e^x-e^{-x}}{e^x+e^{-x}} $$\n",
    "\n",
    "to scale our weights and inputs between -1 and 1."
   ]
  },
  {
   "cell_type": "markdown",
   "metadata": {},
   "source": [
    "### First, we will prepare out environment by importing our libraries"
   ]
  },
  {
   "cell_type": "code",
   "execution_count": 1,
   "metadata": {},
   "outputs": [],
   "source": [
    "import numpy as np\n",
    "import matplotlib.pyplot as plt"
   ]
  },
  {
   "cell_type": "markdown",
   "metadata": {},
   "source": [
    "### Next, we define a few functions that will help us get started. \n",
    "\n",
    "The sigmoid function above is exactly the same as tanh(x) so we create a function that returns that `sigmoid(x)` \n",
    "We also need to find the derivative of sigmoid in order to calculate the Jacobian matrix later on: `sigmoid_deriv(x)`\n",
    "\n",
    "Then, for this project we will synthetically generate N=500 random training points 'X'. The non-linear function 'Y' that we will be approximating is:\n",
    "\n",
    "$$ Y = G(x) = x_{1} * x_{2} + x_{3} $$\n",
    "\n",
    "where the dimension of X is 3 and the dimension of Y is 1.\n",
    "\n",
    "`init_X()` and `init_Y()`\n",
    "\n",
    "From our neural network model above, we also notice that the dimension of W, the weights, is 16. For this algorithm we will initialize W randomly: `init_W()` "
   ]
  },
  {
   "cell_type": "code",
   "execution_count": 2,
   "metadata": {},
   "outputs": [],
   "source": [
    "def sigmoid(x):\n",
    "    sigmoid = np.tanh(x)\n",
    "    return sigmoid\n",
    "\n",
    "def sigmoid_deriv(x):\n",
    "    deriv = 1.0 - sigmoid(x)**2\n",
    "    return deriv\n",
    "\n",
    "def init_X(N=500,d=3):\n",
    "    X = np.random.rand(d,N)\n",
    "    X=X/np.max(X)\n",
    "    X=abs(X)\n",
    "    return X\n",
    "\n",
    "def init_Y(X):\n",
    "    Y = X[0]*X[1]+X[2]\n",
    "    Y=Y.reshape(Y.shape[0],1)\n",
    "    return Y\n",
    "\n",
    "def init_W(p=16):\n",
    "    W = np.random.rand(p)\n",
    "    W=W.reshape(W.shape[0],1)\n",
    "    return W "
   ]
  },
  {
   "cell_type": "markdown",
   "metadata": {},
   "source": [
    "### Here, we create a function that will return our model's prediction given a set of weights and inputs.\n",
    "\n",
    "`test_NN(X,W)`"
   ]
  },
  {
   "cell_type": "code",
   "execution_count": 3,
   "metadata": {},
   "outputs": [],
   "source": [
    "def test_NN(X,W):\n",
    "    N= X.shape[1]\n",
    "    predictions = np.array([])\n",
    "    for i in range((N)):\n",
    "        nn = W[0]*sigmoid(W[1]*X[0,i]+W[2]*X[1,i]+W[3]*X[2,i]+W[4])\\\n",
    "                +W[5]*sigmoid(W[6]*X[0,i]+W[7]*X[1,i]+W[8]*X[2,i]+W[9])\\\n",
    "                    +W[10]*sigmoid(W[11]*X[0,i]+W[12]*X[1,i]+W[13]*X[2,i]+W[14])\\\n",
    "                        +W[15]\n",
    "        \n",
    "        predictions = np.append(predictions,nn)\n",
    "    \n",
    "    return predictions.reshape(X.shape[1],1)"
   ]
  },
  {
   "cell_type": "markdown",
   "metadata": {},
   "source": [
    "### These functions calculate the necessary elements that will be used to train our Neural Network\n",
    "\n",
    "`residual()` will return the error of our model: Predictions - Y\n",
    "\n",
    "`jacobian()` will calculate the jacobian matrix for our residual. *The jacobian of the residual is the same as the jacobian of our neural network.*\n",
    "\n",
    "We need to calculate the jacobian because we will be using this to calculate a first order taylor series approximation for our residual. Then we will use that approximation to calculate our least squares.\n"
   ]
  },
  {
   "cell_type": "code",
   "execution_count": 4,
   "metadata": {},
   "outputs": [],
   "source": [
    "def residual(predictions,Y):\n",
    "    R = predictions - Y\n",
    "    return (R)\n",
    "\n",
    "def jacobian(X,W):\n",
    "    jacobian=np.array([])\n",
    "    p = W.shape[0]\n",
    "    for i in range((p-1)//5):\n",
    "        g = sigmoid(W[i+1]*X[0]+W[i+2]*X[1]+W[i+3]*X[2]+W[i+4])\n",
    "        try:\n",
    "            jacobian = np.column_stack((jacobian,(g)))\n",
    "        except:\n",
    "            jacobian = np.append(jacobian,(g))\n",
    "        for j in range(X.shape[0]):  \n",
    "            g = W[i]*X[j]*sigmoid_deriv(W[i+1]*X[0]+W[i+2]*X[1]+W[i+3]*X[2]+W[i+4])\n",
    "            jacobian = np.column_stack((jacobian,(g)))\n",
    "            \n",
    "        g = W[i]*sigmoid_deriv(W[i+1]*X[0]+W[i+2]*X[1]+W[i+3]*X[2]+W[i+4])\n",
    "        jacobian = np.column_stack((jacobian,(g)))\n",
    "    jacobian = np.column_stack((jacobian,np.ones(X.shape[1])))\n",
    "    return jacobian"
   ]
  },
  {
   "cell_type": "markdown",
   "metadata": {},
   "source": [
    "### Here, we define some functions that will help us calculate the non-linear least squares algorithm\n",
    "\n",
    "We want to minimize our residual, a regularizer, and the Levenberg-Marquardt term:\n",
    "\n",
    "$$ Min_{(W)}: {\\lVert R(W) \\rVert}^2 + \\lambda \\lVert W \\rVert + \\lambda^{(k)}\\lVert W-W^{(k)} \\rVert $$\n",
    "\n",
    "This makes it a multi-objective least squares problem.\n",
    "\n",
    "`get_LS_params()` will return the elements that we want to solve our multi-objective least squares.\n",
    "\n",
    "`rewrite_multi_objective()` will rewrite the multi-objective least squares into a regular least squares that will be easier to solve. \n",
    "\n",
    "`solve_LS()` will then use matrix arithmetics and return a more suitable set of weights "
   ]
  },
  {
   "cell_type": "code",
   "execution_count": 5,
   "metadata": {},
   "outputs": [],
   "source": [
    "def get_LS_params(X,W,R):\n",
    "    \n",
    "    R_j = jacobian(X,W)\n",
    "    \n",
    "    a1 = R_j\n",
    "    b1 = (R_j@W - R).reshape(X.shape[1],1)\n",
    "\n",
    "    a2 = np.identity(16)\n",
    "    b2 = np.zeros((16,1))\n",
    "\n",
    "    a3 = np.identity(16)\n",
    "    b3 = W.reshape(16,1)\n",
    "    \n",
    "    return a1,a2,a3,b1,b2,b3\n",
    "\n",
    "def rewrite_multi_objective(a1,a2,a3,b1,b2,b3,lambda_k,lambda_):\n",
    "    \n",
    "    A = np.vstack((a1,np.sqrt(lambda_)*a2,np.sqrt(lambda_k)*a3))\n",
    "    B = np.vstack((b1,np.sqrt(lambda_)*b2,np.sqrt(lambda_k)*b3))\n",
    "    \n",
    "    return A,B\n",
    "\n",
    "def solve_LS(A,b):\n",
    "    ATA = A.T @ A\n",
    "    ATA_inv = np.linalg.pinv(ATA)\n",
    "    ATA_inv_AT = ATA_inv @ A.T\n",
    "    next_w = ATA_inv_AT @ b\n",
    "    return next_w"
   ]
  },
  {
   "cell_type": "markdown",
   "metadata": {},
   "source": [
    "### Now, we can get to training our Neural Network\n",
    "\n",
    "`get_loss()` will calculate the loss of our prediction which is defined as:\n",
    "\n",
    "$$ loss = \\lVert R(w) \\rVert^2 + \\lVert W \\rVert^2 $$\n",
    "\n",
    "`NN_forward()` will call the `test_NN()` function and then return the residual and loss for its predictions\n",
    "\n",
    "`train_NN` will then piece together all of our previous functions and train the neural network over multiple iterations until we get a suitable loss for our stopping criterion or until it hits 350 iterations.\n",
    "\n",
    "Our stopping criterion is when loss < 0.1. 0.1 is chose a pretty low stopping criterion- we don't necessarily expect it to converge this low, but we leave it there hoping that it might converge to 0.1 before the max iterations.\n",
    "I chose to cap it at 350 iterations because through multiple trials, most iterations beyond this does not have our loss converge at anything significantly lower. "
   ]
  },
  {
   "cell_type": "code",
   "execution_count": 6,
   "metadata": {},
   "outputs": [],
   "source": [
    "def get_loss(W,R,lambda_):\n",
    "    R_norm_sq = np.linalg.norm(R)**2\n",
    "    regularizer_ns = (lambda_)*(np.linalg.norm(W)**2)\n",
    "    loss = R_norm_sq+regularizer_ns\n",
    "    \n",
    "    return loss\n",
    "\n",
    "def NN_forward(X,W,Y,lambda_,lambda_k):\n",
    "    \n",
    "    predictions = test_NN(X,W)\n",
    "    R=residual(predictions,Y)\n",
    "    \n",
    "    loss = get_loss(W,R,lambda_)\n",
    "    \n",
    "    \n",
    "    return R,loss\n",
    "\n",
    "def train_NN(X,W,Y,R,loss,lambda_,lambda_k):\n",
    "    \n",
    "    iter_dict={}\n",
    "    iteration = 0\n",
    "    while loss > 0.1 and iteration<500:\n",
    "        \n",
    "        a1,a2,a3,b1,b2,b3 = get_LS_params(X,W,R)\n",
    "        A,B = rewrite_multi_objective(a1,a2,a3,b1,b2,b3,lambda_k,lambda_)\n",
    "\n",
    "        new_W = solve_LS(A,B)\n",
    "\n",
    "        new_predictions = test_NN(X,new_W)\n",
    "#         new_R=residual(new_predictions,Y)\n",
    "        \n",
    "        new_loss = get_loss(new_W,new_R,lambda_)\n",
    "        \n",
    "        if new_loss < loss:\n",
    "#             print('decreasing lambda!')\n",
    "            W = new_W\n",
    "            lambda_k = 0.8*lambda_k\n",
    "            R,loss = NN_forward(X,W,Y,lambda_,lambda_k)\n",
    "        else: \n",
    "#             print('increasing lambda!')\n",
    "            lambda_k=2*lambda_k\n",
    "            R,loss = NN_forward(X,W,Y,lambda_,lambda_k)\n",
    "            \n",
    "        iteration+=1\n",
    "        iter_dict[iteration]=(loss,lambda_k,np.mean(abs(R)))\n",
    "#         print(iteration, loss,lambda_k)\n",
    "        \n",
    "    return W, iter_dict"
   ]
  },
  {
   "cell_type": "markdown",
   "metadata": {},
   "source": [
    "### It is also common to run our algorithm multiple times to ensure that we have found the best set of weights\n",
    "\n",
    "The Levenberg-Marquadt algorithm (LM-alg) is a heuristic one thus it does not guarantee that it has found the best set of weights for our model. In fact, finding an optimal point of convergence for our loss seems to heavily depend on our training set (that we randomized), initial weights (also randomized), and different values of $\\lambda$ and $\\lambda^{(k)}$\n",
    "\n",
    "`multiple_runs()` runs the LM-alg K times (default = 5) and returns the worst iteration(highest loss) and best iteration(lowest lost)"
   ]
  },
  {
   "cell_type": "code",
   "execution_count": 7,
   "metadata": {},
   "outputs": [],
   "source": [
    "def multiple_runs(X,Y,lambda_,lambda_k,K=5):\n",
    "    \n",
    "    lowest_loss = float('inf')\n",
    "    highest_loss = 0\n",
    "    \n",
    "    ITER_D={}\n",
    "    \n",
    "    for k in range(K):\n",
    "        W = init_W(p)\n",
    "\n",
    "        R,loss = NN_forward(X,W,Y,lambda_,lambda_k)\n",
    "        final_W,iter_dict = train_NN(X,W,Y,R,loss,lambda_,lambda_k)\n",
    "        plot_loss(iter_dict)\n",
    "#         plot_R(iter_dict)\n",
    "        print(k)\n",
    "        \n",
    "        if np.array(list(iter_dict.values()))[-1,0] < lowest_loss:\n",
    "            lowest_loss = np.array(list(iter_dict.values()))[-1,0]\n",
    "            ultimate_final_W = final_W\n",
    "            best_run=k\n",
    "            \n",
    "        if np.array(list(iter_dict.values()))[-1,0] > highest_loss:\n",
    "            highest_loss = np.array(list(iter_dict.values()))[-1,0]\n",
    "            worst_W = final_W\n",
    "            worst_run=k\n",
    "        \n",
    "        ITER_D[k]=iter_dict\n",
    "        \n",
    "    return lowest_loss,ultimate_final_W,highest_loss,worst_W,X,Y,ITER_D,best_run,worst_run"
   ]
  },
  {
   "cell_type": "markdown",
   "metadata": {},
   "source": [
    "### These functions will help us analyze and visualize our results"
   ]
  },
  {
   "cell_type": "code",
   "execution_count": 8,
   "metadata": {},
   "outputs": [],
   "source": [
    "def get_ERR(predictions,Y):\n",
    "    return predictions-Y\n",
    "\n",
    "def plot_loss(dic):\n",
    "    fig = plt.figure()\n",
    "    plt.title('(iteration vs loss) converges at {:0.4f}'.format(np.array(list(dic.values()))[-1,0]))\n",
    "    plt.plot(np.array(list(dic.keys())),np.array(list(dic.values()))[:,0])\n",
    "#     plt.ylim(0, 20)\n",
    "    plt.yscale('log')\n",
    "    plt.xscale('log')\n",
    "    plt.grid()\n",
    "    plt.xlabel('iterations')\n",
    "    plt.ylabel('loss')\n",
    "    plt.show()\n",
    "    \n",
    "def plot_lambda_k(dic):\n",
    "    fig = plt.figure()\n",
    "    plt.title('iter vs lambda k')\n",
    "    plt.plot(np.array(list(dic.keys())),np.array(list(dic.values()))[:,1])\n",
    "    plt.grid()\n",
    "    plt.xlabel('iterations')\n",
    "    plt.ylabel('lambda k')\n",
    "    plt.show()\n",
    "    \n",
    "def plot_R(dic):\n",
    "    fig = plt.figure()\n",
    "    plt.title('iter vs residual ')\n",
    "    plt.plot(np.array(list(dic.keys())),np.array(list(dic.values()))[:,2])\n",
    "    plt.grid()\n",
    "    plt.yscale('log')\n",
    "    plt.xscale('log')\n",
    "    plt.xlabel('iterations')\n",
    "    plt.ylabel('residual')\n",
    "    plt.show()"
   ]
  },
  {
   "cell_type": "markdown",
   "metadata": {},
   "source": [
    "### These functions are the error metrics we will use to analyze our results"
   ]
  },
  {
   "cell_type": "code",
   "execution_count": 9,
   "metadata": {},
   "outputs": [],
   "source": [
    "def MAE(ERR,Y):\n",
    "    return np.sum(abs(ERR))/(ERR.shape[0])\n",
    "\n",
    "def RMSE(ERR,Y):\n",
    "    return np.sqrt(np.sum(ERR**2)/(ERR.shape[0]))\n",
    "\n",
    "def RMSPE(ERR,Y):\n",
    "    return (np.sqrt(np.mean(np.square((ERR) / Y)))) * 100\n",
    "\n",
    "def MAPE(ERR,Y):\n",
    "    return (np.sum(abs(ERR/Y)))*(100/ERR.shape[0])\n",
    "\n",
    "def MPE(ERR,Y):\n",
    "    return (100/ERR.shape[0])*np.sum(ERR/Y)"
   ]
  },
  {
   "cell_type": "markdown",
   "metadata": {},
   "source": [
    "### Finally, we run the algorithm (multiple times) and plot our results.\n",
    "\n",
    "From multiple trial runs, I found the ideal $\\lambda$ (lambda_) to be $10^{-10}$ and $\\lambda^{(k)}$ (lambda_K) to be $1$.\n",
    "\n",
    "These values of lambda/lambda_k tend to produce the lowest point of convergence across multiple training sets and initial weights. However, these values may differ from set to set. \n",
    "\n",
    "The role of lambda_, the regularizing termn is to prevent overfitting in our model. A higher lambda_ chosen will likely have our loss converge at a higher point and a lower lambda_k will likely take more iterations to converge at the same point. \n",
    "\n",
    "\n",
    "The role of lambda_k, the LM-alg term, is to prevent overfitting and pruning as well as guaranteeing an invertible matrix for our least-squares calculation.  Lambda_k is updated and adjusted during training.\n"
   ]
  },
  {
   "cell_type": "code",
   "execution_count": 10,
   "metadata": {},
   "outputs": [],
   "source": [
    "N = 500 # number of samples\n",
    "d = 3 # dimension of input X\n",
    "p = 16 # number of weights/biases\n",
    "\n",
    "X = init_X(N,d)\n",
    "Y = init_Y(X)\n",
    "\n"
   ]
  },
  {
   "cell_type": "code",
   "execution_count": 11,
   "metadata": {
    "scrolled": true
   },
   "outputs": [
    {
     "data": {
      "image/png": "[encoded data removed]",
      "text/plain": [
       "<Figure size 432x288 with 1 Axes>"
      ]
     },
     "metadata": {
      "needs_background": "light"
     },
     "output_type": "display_data"
    },
    {
     "name": "stdout",
     "output_type": "stream",
     "text": [
      "0\n"
     ]
    },
    {
     "data": {
      "image/png": "[encoded data removed]",
      "text/plain": [
       "<Figure size 432x288 with 1 Axes>"
      ]
     },
     "metadata": {
      "needs_background": "light"
     },
     "output_type": "display_data"
    },
    {
     "name": "stdout",
     "output_type": "stream",
     "text": [
      "1\n"
     ]
    },
    {
     "data": {
      "image/png": "[encoded data removed]",
      "text/plain": [
       "<Figure size 432x288 with 1 Axes>"
      ]
     },
     "metadata": {
      "needs_background": "light"
     },
     "output_type": "display_data"
    },
    {
     "name": "stdout",
     "output_type": "stream",
     "text": [
      "2\n"
     ]
    },
    {
     "data": {
      "image/png": "[encoded data removed]",
      "text/plain": [
       "<Figure size 432x288 with 1 Axes>"
      ]
     },
     "metadata": {
      "needs_background": "light"
     },
     "output_type": "display_data"
    },
    {
     "name": "stdout",
     "output_type": "stream",
     "text": [
      "3\n"
     ]
    },
    {
     "data": {
      "image/png": "[encoded data removed]",
      "text/plain": [
       "<Figure size 432x288 with 1 Axes>"
      ]
     },
     "metadata": {
      "needs_background": "light"
     },
     "output_type": "display_data"
    },
    {
     "name": "stdout",
     "output_type": "stream",
     "text": [
      "4\n"
     ]
    }
   ],
   "source": [
    "lambda_ = 10**-10\n",
    "lambda_k = 1.5\n",
    "lowest_loss,best_w,highest_loss,worst_w,X,Y,iter_d,best_run,worst_run=multiple_runs(X,Y,lambda_,lambda_k, 5)"
   ]
  },
  {
   "cell_type": "markdown",
   "metadata": {},
   "source": [
    "## From the graphs above, we can see which iterations performed the best and worst\n",
    "\n",
    "### Here are the analytics for the best run:"
   ]
  },
  {
   "cell_type": "code",
   "execution_count": 12,
   "metadata": {
    "scrolled": false
   },
   "outputs": [
    {
     "name": "stdout",
     "output_type": "stream",
     "text": [
      "Lowest Loss: 0.962644663080845\n",
      "Mean Absolute Error: 0.034105\n",
      "Mean Absolute Percent Error: 8.080 %\n"
     ]
    },
    {
     "data": {
      "image/png": "[encoded data removed]",
      "text/plain": [
       "<Figure size 432x288 with 1 Axes>"
      ]
     },
     "metadata": {
      "needs_background": "light"
     },
     "output_type": "display_data"
    },
    {
     "name": "stdout",
     "output_type": "stream",
     "text": [
      "\n",
      "We can see that does not converge to our stopping criterion of 0.1. \n",
      "Although that may seem like a significant margin, its important to remember \n",
      "that loss (defined earlier) is not the same as error.\n",
      "\n",
      "When we calculate the mean absolute error, we notice that the average error for this run is: 0.03410\n",
      "\n",
      "Furthermore, the mean absolute percent error for this run is about 8.080 %.\n"
     ]
    }
   ],
   "source": [
    "print('Lowest Loss: {}'.format(lowest_loss))\n",
    "best_preds = test_NN(X,best_w)\n",
    "best_ERR = get_ERR(best_preds,Y)\n",
    "\n",
    "best_avg_err = MAE(best_ERR,Y)\n",
    "best_avg_percent_err = MAPE(best_ERR,Y)\n",
    "print('Mean Absolute Error: {:0.6f}\\nMean Absolute Percent Error: {:0.3f} %'.format(best_avg_err,best_avg_percent_err))\n",
    "b_rmse = RMSE(best_ERR,Y)\n",
    "b_rmspe = RMSPE(best_ERR, Y)\n",
    "\n",
    "# print('Root Mean Square Error: {:0.6f}\\nRoot Mean Square Percent Error: {:0.3f} %'.format(b_rmse,b_rmspe))\n",
    "plot_loss(iter_d[best_run])\n",
    "\n",
    "\n",
    "print('\\nWe can see that does not converge to our stopping criterion of 0.1. \\n\\\n",
    "Although that may seem like a significant margin, its important to remember \\n\\\n",
    "that loss (defined earlier) is not the same as error.\\n')\n",
    "\n",
    "print('When we calculate the mean absolute error, we notice that the average error \\\n",
    "for this run is: {:0.5f}\\n'.format(best_avg_err))\n",
    "\n",
    "print('Furthermore, the mean absolute percent error for this run is about {:0.3f} %.'.format(best_avg_percent_err))"
   ]
  },
  {
   "cell_type": "markdown",
   "metadata": {},
   "source": [
    "#### Here are the analytics for the worst run:\n",
    "\n",
    "This model performs significantly worse than our best run, which is expected."
   ]
  },
  {
   "cell_type": "code",
   "execution_count": 13,
   "metadata": {},
   "outputs": [
    {
     "name": "stdout",
     "output_type": "stream",
     "text": [
      "Highest Loss: 12.003909373749424\n",
      "Mean Absolute Error: 0.116241\n",
      "Mean Absolute Percent Error: 35.614 %\n"
     ]
    },
    {
     "data": {
      "image/png": "[encoded data removed]",
      "text/plain": [
       "<Figure size 432x288 with 1 Axes>"
      ]
     },
     "metadata": {
      "needs_background": "light"
     },
     "output_type": "display_data"
    }
   ],
   "source": [
    "print('Highest Loss: {}'.format(highest_loss))\n",
    "worst_preds = test_NN(X,worst_w)\n",
    "worst_ERR = get_ERR(worst_preds,Y)\n",
    "\n",
    "worst_avg_err = MAE(worst_ERR,Y)\n",
    "worst_avg_percent_err = MAPE(worst_ERR,Y)\n",
    "print('Mean Absolute Error: {:0.6f}\\nMean Absolute Percent Error: {:0.3f} %'.format(worst_avg_err,worst_avg_percent_err))\n",
    "\n",
    "w_rmse = RMSE(worst_ERR,Y)\n",
    "w_rmspe = RMSPE(worst_ERR, Y)\n",
    "\n",
    "# print('Root Mean Square Error: {:0.6f}\\nRoot Mean Square Percent Error: {:0.3f} %'.format(w_rmse,w_rmspe))\n",
    "\n",
    "plot_loss(iter_d[worst_run])"
   ]
  },
  {
   "cell_type": "markdown",
   "metadata": {},
   "source": [
    "### The previous results are from the training set. We should also test our best-run model on a completely different random testing set to see how it performs.\n",
    "\n",
    "We create 3 different testing sets each of a different size. Then we input these sets into our best-run model and calculate the performance."
   ]
  },
  {
   "cell_type": "code",
   "execution_count": 14,
   "metadata": {},
   "outputs": [],
   "source": [
    "Xtest1=init_X(50,3)\n",
    "Ytest1=init_Y(Xtest1)\n",
    "\n",
    "Xtest2=init_X(150,3)\n",
    "Ytest2=init_Y(Xtest2)\n",
    "\n",
    "Xtest3=init_X(300,3)\n",
    "Ytest3=init_Y(Xtest3)"
   ]
  },
  {
   "cell_type": "code",
   "execution_count": 15,
   "metadata": {
    "scrolled": true
   },
   "outputs": [
    {
     "name": "stdout",
     "output_type": "stream",
     "text": [
      "TEST SET 1- 50 test samples\n",
      "MAE: 0.036671\n",
      "MAPE: 7.707 %\n",
      "\n",
      "TEST SET 2 - 150 test samples\n",
      "MAE: 0.039760\n",
      "MAPE: 8.816 %\n",
      "\n",
      "TEST SET 3 - 300 test samples\n",
      "MAE: 0.041262\n",
      "MAPE: 10.584 %\n"
     ]
    }
   ],
   "source": [
    "preds1 = test_NN(Xtest1, best_w)\n",
    "ERR1 = get_ERR(preds1,Ytest1)\n",
    "\n",
    "avg_err1 = MAE(ERR1,Ytest1)\n",
    "avg_percent_err1 = MAPE(ERR1,Ytest1)\n",
    "err1_rmse = RMSE(ERR1,Ytest1)\n",
    "err1_rmspe = RMSPE(ERR1,Ytest1)\n",
    "\n",
    "print('TEST SET 1- 50 test samples')\n",
    "print('MAE: {:0.6f}\\nMAPE: {:0.3f} %'.format(avg_err1,avg_percent_err1))\n",
    "# print('RMSE: {:0.6f}\\nRMSPE: {:0.3f} %\\n'.format(err1_rmse,err1_rmspe))\n",
    "\n",
    "\n",
    "preds2 = test_NN(Xtest2, best_w)\n",
    "ERR2 = get_ERR(preds2,Ytest2)\n",
    "\n",
    "avg_err2 = MAE(ERR2,Ytest2)\n",
    "avg_percent_err2 = MAPE(ERR2,Ytest2)\n",
    "err2_rmse = RMSE(ERR2,Ytest2)\n",
    "err2_rmspe = RMSPE(ERR2,Ytest2)\n",
    "\n",
    "print('\\nTEST SET 2 - 150 test samples')\n",
    "print('MAE: {:0.6f}\\nMAPE: {:0.3f} %'.format(avg_err2,avg_percent_err2))\n",
    "# print('RMSE: {:0.6f}\\nRMSPE: {:0.3f} %\\n'.format(err2_rmse,err2_rmspe))\n",
    "\n",
    "\n",
    "preds3 = test_NN(Xtest3, best_w)\n",
    "ERR3 = get_ERR(preds3,Ytest3)\n",
    "\n",
    "avg_err3 = MAE(ERR3,Ytest3)\n",
    "avg_percent_err3 = MAPE(ERR3,Ytest3)\n",
    "err3_rmse = RMSE(ERR3,Ytest3)\n",
    "err3_rmspe = RMSPE(ERR3,Ytest3)\n",
    "\n",
    "print('\\nTEST SET 3 - 300 test samples')\n",
    "print('MAE: {:0.6f}\\nMAPE: {:0.3f} %'.format(avg_err3,avg_percent_err3))\n",
    "# print('RMSE: {:0.6f}\\nRMSPE: {:0.3f} %\\n'.format(err3_rmse,err3_rmspe))\n"
   ]
  },
  {
   "cell_type": "markdown",
   "metadata": {},
   "source": [
    "### We can observe that Test set 3, with the most test samples, tends to have the best performance (lowest average error). However, all 3 test sets perform worse than our training set. \n",
    "\n",
    "This is expected though. Since we ran multiple iterations on our training set, our model is best fit to the data points from the training set. Both the test and training sets were randomized in the same way, the only thing that differs is the size of each set. Through multiple trials, the size of the test samples did not affect the MAPE that much. \n",
    "\n"
   ]
  },
  {
   "cell_type": "markdown",
   "metadata": {},
   "source": [
    "## Now, we will see how this algorithm performs on a different non-linear function Y\n",
    "\n",
    "Since our Neural Network model must have X at dimension=3, we will keep the same method of initializing X.\n",
    "\n",
    "however, Y is now defined as \n",
    "\n",
    "$$ Y = G(x) = x_{1}^{x_{2}} + x_{3} $$\n",
    "\n",
    "We randomly create the training samples again, this time with the new Y."
   ]
  },
  {
   "cell_type": "code",
   "execution_count": 16,
   "metadata": {},
   "outputs": [],
   "source": [
    "def init_new_Y(X):\n",
    "    Y = X[0]**X[1]+X[2]\n",
    "    Y=Y.reshape(Y.shape[0],1)\n",
    "    return Y\n"
   ]
  },
  {
   "cell_type": "markdown",
   "metadata": {},
   "source": [
    "### Lets also keep our $\\lambda$ and $\\lambda^{(k)}$ the same"
   ]
  },
  {
   "cell_type": "code",
   "execution_count": 17,
   "metadata": {},
   "outputs": [
    {
     "data": {
      "image/png": "[encoded data removed]",
      "text/plain": [
       "<Figure size 432x288 with 1 Axes>"
      ]
     },
     "metadata": {
      "needs_background": "light"
     },
     "output_type": "display_data"
    },
    {
     "name": "stdout",
     "output_type": "stream",
     "text": [
      "0\n"
     ]
    },
    {
     "data": {
      "image/png": "[encoded data removed]",
      "text/plain": [
       "<Figure size 432x288 with 1 Axes>"
      ]
     },
     "metadata": {
      "needs_background": "light"
     },
     "output_type": "display_data"
    },
    {
     "name": "stdout",
     "output_type": "stream",
     "text": [
      "1\n"
     ]
    },
    {
     "data": {
      "image/png": "[encoded data removed]",
      "text/plain": [
       "<Figure size 432x288 with 1 Axes>"
      ]
     },
     "metadata": {
      "needs_background": "light"
     },
     "output_type": "display_data"
    },
    {
     "name": "stdout",
     "output_type": "stream",
     "text": [
      "2\n"
     ]
    },
    {
     "data": {
      "image/png": "[encoded data removed]",
      "text/plain": [
       "<Figure size 432x288 with 1 Axes>"
      ]
     },
     "metadata": {
      "needs_background": "light"
     },
     "output_type": "display_data"
    },
    {
     "name": "stdout",
     "output_type": "stream",
     "text": [
      "3\n"
     ]
    },
    {
     "data": {
      "image/png": "[encoded data removed]",
      "text/plain": [
       "<Figure size 432x288 with 1 Axes>"
      ]
     },
     "metadata": {
      "needs_background": "light"
     },
     "output_type": "display_data"
    },
    {
     "name": "stdout",
     "output_type": "stream",
     "text": [
      "4\n"
     ]
    }
   ],
   "source": [
    "X = init_X()\n",
    "Y = init_new_Y(X)\n",
    "lambda_ = 10**-10\n",
    "lambda_k = 1\n",
    "\n",
    "lowest_loss,best_w,highest_loss,worst_w,X,Y,iter_d,best_run,worst_run=multiple_runs(X,Y,lambda_,lambda_k, 5)"
   ]
  },
  {
   "cell_type": "code",
   "execution_count": 18,
   "metadata": {},
   "outputs": [
    {
     "name": "stdout",
     "output_type": "stream",
     "text": [
      "Lowest Loss: 3.3373224198349405\n",
      "Mean Absolute Error: 0.059868\n",
      "Mean Absolute Percent Error: 6.005 %\n"
     ]
    },
    {
     "data": {
      "image/png": "[encoded data removed]",
      "text/plain": [
       "<Figure size 432x288 with 1 Axes>"
      ]
     },
     "metadata": {
      "needs_background": "light"
     },
     "output_type": "display_data"
    }
   ],
   "source": [
    "print('Lowest Loss: {}'.format(lowest_loss))\n",
    "best_preds = test_NN(X,best_w)\n",
    "best_ERR = get_ERR(best_preds,Y)\n",
    "\n",
    "best_avg_err = MAE(best_ERR,Y)\n",
    "best_avg_percent_err = MAPE(best_ERR,Y)\n",
    "print('Mean Absolute Error: {:0.6f}\\nMean Absolute Percent Error: {:0.3f} %'.format(best_avg_err,best_avg_percent_err))\n",
    "b_rmse = RMSE(best_ERR,Y)\n",
    "b_rmspe = RMSPE(best_ERR, Y)\n",
    "\n",
    "# print('Root Mean Square Error: {:0.6f}\\nRoot Mean Square Percent Error: {:0.3f} %'.format(b_rmse,b_rmspe))\n",
    "plot_loss(iter_d[best_run])"
   ]
  },
  {
   "cell_type": "code",
   "execution_count": 19,
   "metadata": {},
   "outputs": [
    {
     "name": "stdout",
     "output_type": "stream",
     "text": [
      "Highest Loss: 19.511834536035426\n",
      "Mean Absolute Error: 0.149818\n",
      "Mean Absolute Percent Error: 12.521 %\n"
     ]
    },
    {
     "data": {
      "image/png": "[encoded data removed]",
      "text/plain": [
       "<Figure size 432x288 with 1 Axes>"
      ]
     },
     "metadata": {
      "needs_background": "light"
     },
     "output_type": "display_data"
    }
   ],
   "source": [
    "print('Highest Loss: {}'.format(highest_loss))\n",
    "worst_preds = test_NN(X,worst_w)\n",
    "worst_ERR = get_ERR(worst_preds,Y)\n",
    "\n",
    "worst_avg_err = MAE(worst_ERR,Y)\n",
    "worst_avg_percent_err = MAPE(worst_ERR,Y)\n",
    "print('Mean Absolute Error: {:0.6f}\\nMean Absolute Percent Error: {:0.3f} %'.format(worst_avg_err,worst_avg_percent_err))\n",
    "\n",
    "w_rmse = RMSE(worst_ERR,Y)\n",
    "w_rmspe = RMSPE(worst_ERR, Y)\n",
    "\n",
    "# print('Root Mean Square Error: {:0.6f}\\nRoot Mean Square Percent Error: {:0.3f} %'.format(w_rmse,w_rmspe))\n",
    "\n",
    "plot_loss(iter_d[worst_run])\n",
    "    "
   ]
  },
  {
   "cell_type": "code",
   "execution_count": 20,
   "metadata": {},
   "outputs": [],
   "source": [
    "Xtest1=init_X(50,3)\n",
    "Ytest1=init_new_Y(Xtest1)\n",
    "\n",
    "Xtest2=init_X(150,3)\n",
    "Ytest2=init_new_Y(Xtest2)\n",
    "\n",
    "Xtest3=init_X(300,3)\n",
    "Ytest3=init_new_Y(Xtest3)"
   ]
  },
  {
   "cell_type": "code",
   "execution_count": 21,
   "metadata": {},
   "outputs": [
    {
     "name": "stdout",
     "output_type": "stream",
     "text": [
      "TEST SET 1- 50 test samples\n",
      "MAE: 0.057905\n",
      "MAPE: 5.118 %\n",
      "\n",
      "TEST SET 2 - 150 test samples\n",
      "MAE: 0.066899\n",
      "MAPE: 7.297 %\n",
      "\n",
      "TEST SET 3 - 300 test samples\n",
      "MAE: 0.063578\n",
      "MAPE: 6.345 %\n"
     ]
    }
   ],
   "source": [
    "preds1 = test_NN(Xtest1, best_w)\n",
    "ERR1 = get_ERR(preds1,Ytest1)\n",
    "\n",
    "avg_err1 = MAE(ERR1,Ytest1)\n",
    "avg_percent_err1 = MAPE(ERR1,Ytest1)\n",
    "err1_rmse = RMSE(ERR1,Ytest1)\n",
    "err1_rmspe = RMSPE(ERR1,Ytest1)\n",
    "\n",
    "print('TEST SET 1- 50 test samples')\n",
    "print('MAE: {:0.6f}\\nMAPE: {:0.3f} %'.format(avg_err1,avg_percent_err1))\n",
    "# print('RMSE: {:0.6f}\\nRMSPE: {:0.3f} %\\n'.format(err1_rmse,err1_rmspe))\n",
    "\n",
    "\n",
    "preds2 = test_NN(Xtest2, best_w)\n",
    "ERR2 = get_ERR(preds2,Ytest2)\n",
    "\n",
    "avg_err2 = MAE(ERR2,Ytest2)\n",
    "avg_percent_err2 = MAPE(ERR2,Ytest2)\n",
    "err2_rmse = RMSE(ERR2,Ytest2)\n",
    "err2_rmspe = RMSPE(ERR2,Ytest2)\n",
    "\n",
    "print('\\nTEST SET 2 - 150 test samples')\n",
    "print('MAE: {:0.6f}\\nMAPE: {:0.3f} %'.format(avg_err2,avg_percent_err2))\n",
    "# print('RMSE: {:0.6f}\\nRMSPE: {:0.3f} %\\n'.format(err2_rmse,err2_rmspe))\n",
    "\n",
    "\n",
    "preds3 = test_NN(Xtest3, best_w)\n",
    "ERR3 = get_ERR(preds3,Ytest3)\n",
    "\n",
    "avg_err3 = MAE(ERR3,Ytest3)\n",
    "avg_percent_err3 = MAPE(ERR3,Ytest3)\n",
    "err3_rmse = RMSE(ERR3,Ytest3)\n",
    "err3_rmspe = RMSPE(ERR3,Ytest3)\n",
    "\n",
    "print('\\nTEST SET 3 - 300 test samples')\n",
    "print('MAE: {:0.6f}\\nMAPE: {:0.3f} %'.format(avg_err3,avg_percent_err3))\n",
    "# print('RMSE: {:0.6f}\\nRMSPE: {:0.3f} %\\n'.format(err3_rmse,err3_rmspe))"
   ]
  },
  {
   "cell_type": "markdown",
   "metadata": {},
   "source": [
    "## Summary of Analysis\n",
    "\n",
    "**In the first part of the project**, we attempted to model the function\n",
    "\n",
    "$$ Y = G(x) = x_{1} * x_{2} + x_{3} $$\n",
    "\n",
    "On average, our best runs often converged at a loss value between 0.5-1.5. This often produced an average MAPE of 5-7%. We attempted different lambda_ values and noticed that a smaller lambda_ value often resulted in a lower loss convergence. \n",
    "\n",
    "We also tested our model on 3 different test sets. Using our best set of weights, our model predicted the test sets with only a slightly worse MAPE. This means that our model is generally consistent on multiple data sets. \n",
    "\n",
    "\n",
    "**The second part of the project**, we modeled the non-linear function\n",
    "\n",
    "$$ Y = G(x) = x_{1}^{x_{2}} + x_{3} $$\n",
    "\n",
    "We did not need to modify our code from the first part except for updating the Y=G(X) function. Through our 5 iterations of the LM-alg, our best runs converged at a loss around 1-2 and had and average MAPE of around 6-7%. The loss vs iterations graphs look quite similar to the first part of the experiment. We also had similar results when testing the model on 3 different test sets of different sizes. Adjusting the lambda_ values for this part also yielded the same trends as the first part. \n"
   ]
  }
 ],
 "metadata": {
  "kernelspec": {
   "display_name": "Python 3",
   "language": "python",
   "name": "python3"
  },
  "language_info": {
   "codemirror_mode": {
    "name": "ipython",
    "version": 3
   },
   "file_extension": ".py",
   "mimetype": "text/x-python",
   "name": "python",
   "nbconvert_exporter": "python",
   "pygments_lexer": "ipython3",
   "version": "3.7.6"
  }
 },
 "nbformat": 4,
 "nbformat_minor": 4
}
